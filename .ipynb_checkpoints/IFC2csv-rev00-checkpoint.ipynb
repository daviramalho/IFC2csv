{
 "cells": [
  {
   "cell_type": "code",
   "execution_count": 1,
   "id": "64d641ae",
   "metadata": {},
   "outputs": [],
   "source": [
    "import ifcopenshell\n",
    "import ifcopenshell.util.selector\n",
    "import ifcopenshell.util.element\n",
    "import ifcopenshell.util.schema\n",
    "import csv\n",
    "import argparse"
   ]
  },
  {
   "cell_type": "code",
   "execution_count": 10,
   "id": "e3f65ce0",
   "metadata": {},
   "outputs": [],
   "source": [
    "ifc_file = ifcopenshell.open('./IFC_files/test.ifc')\n",
    "#ifc_file = ifcopenshell.open('./IFC_files/Modelador_BIM-AULA_07-REV02.ifc')"
   ]
  },
  {
   "cell_type": "code",
   "execution_count": 11,
   "id": "e021a4d7",
   "metadata": {},
   "outputs": [
    {
     "name": "stdout",
     "output_type": "stream",
     "text": [
      "IfcSite\n",
      "IfcBuilding\n",
      "IfcBuildingStorey\n",
      "IfcColumn\n"
     ]
    }
   ],
   "source": [
    "products = ifc_file.by_type('IfcProduct')\n",
    "for product in products:\n",
    "    print(product.is_a())"
   ]
  },
  {
   "cell_type": "code",
   "execution_count": 12,
   "id": "cec05517",
   "metadata": {},
   "outputs": [
    {
     "name": "stdout",
     "output_type": "stream",
     "text": [
      "#54=IfcColumn('2CqkWgosT4WheFug2S6rhI',$,'Cube',$,$,#80,#74,$,.COLUMN.)\n"
     ]
    }
   ],
   "source": [
    "print(product)"
   ]
  },
  {
   "cell_type": "code",
   "execution_count": null,
   "id": "cb8286ac",
   "metadata": {},
   "outputs": [],
   "source": []
  },
  {
   "cell_type": "code",
   "execution_count": null,
   "id": "ae89241a",
   "metadata": {},
   "outputs": [],
   "source": []
  }
 ],
 "metadata": {
  "kernelspec": {
   "display_name": "Python 3 (ipykernel)",
   "language": "python",
   "name": "python3"
  },
  "language_info": {
   "codemirror_mode": {
    "name": "ipython",
    "version": 3
   },
   "file_extension": ".py",
   "mimetype": "text/x-python",
   "name": "python",
   "nbconvert_exporter": "python",
   "pygments_lexer": "ipython3",
   "version": "3.10.0"
  }
 },
 "nbformat": 4,
 "nbformat_minor": 5
}
